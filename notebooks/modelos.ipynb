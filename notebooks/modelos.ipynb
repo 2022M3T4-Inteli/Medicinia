{
  "nbformat": 4,
  "nbformat_minor": 0,
  "metadata": {
    "colab": {
      "provenance": [],
      "collapsed_sections": []
    },
    "kernelspec": {
      "name": "python3",
      "display_name": "Python 3"
    },
    "language_info": {
      "name": "python"
    }
  },
  "cells": [
    {
      "cell_type": "markdown",
      "source": [
        "## Conectando o Drive"
      ],
      "metadata": {
        "id": "JixzuK_O2PEY"
      }
    },
    {
      "cell_type": "code",
      "source": [
        "from google.colab import drive\n",
        "from google_drive_downloader import GoogleDriveDownloader as drive\n",
        "data_google_id = '1iOoTKw3G6izNt3LRzkTQ5pUCrW8ZxRqx'\n",
        "drive.download_file_from_google_drive(file_id=data_google_id,\n",
        "                                    dest_path = './dataset3 (2).csv',\n",
        "                                    showsize = True)"
      ],
      "metadata": {
        "id": "FyS_bxwJ0sV1"
      },
      "execution_count": 10,
      "outputs": []
    },
    {
      "cell_type": "markdown",
      "source": [
        "##Importação das ferramentas utilizadas\n",
        "\n"
      ],
      "metadata": {
        "id": "GSoKB18Q52kR"
      }
    },
    {
      "cell_type": "code",
      "execution_count": 11,
      "metadata": {
        "id": "SrjLb4UVKP04"
      },
      "outputs": [],
      "source": [
        "#manipulação de dados\n",
        "import pandas as pd\n",
        "import numpy as np\n",
        "\n",
        "#exibição de gráficos\n",
        "import matplotlib.pyplot as plt\n",
        "\n",
        "#métricas de avaliação do modelo\n",
        "from sklearn.metrics import precision_score, recall_score, f1_score, accuracy_score, roc_auc_score, plot_confusion_matrix\n",
        "\n",
        "#função para dividir os dados em treino e teste\n",
        "from sklearn.model_selection import train_test_split\n",
        "\n",
        "#modelo SVM\n",
        "from sklearn.svm import SVC\n",
        "\n",
        "#modelo KNN\n",
        "from sklearn.neighbors import KNeighborsClassifier\n",
        "\n",
        "#modelo Random Forest\n",
        "from sklearn.ensemble import RandomForestClassifier\n",
        "\n",
        "#modelo Árvore de Decisão\n",
        "from sklearn.tree import DecisionTreeClassifier"
      ]
    },
    {
      "cell_type": "markdown",
      "source": [
        "##Importando DataFrame"
      ],
      "metadata": {
        "id": "yr6s23N5KV-u"
      }
    },
    {
      "cell_type": "code",
      "source": [
        "#importação dos dados\n",
        "df = pd.read_csv('./dataset3 (2).csv')\n",
        "display(df)"
      ],
      "metadata": {
        "colab": {
          "base_uri": "https://localhost:8080/",
          "height": 505
        },
        "id": "M19b_vxYKdEw",
        "outputId": "50f41fe5-77f9-4ddf-ee9e-dc935fdd168e"
      },
      "execution_count": 12,
      "outputs": [
        {
          "output_type": "display_data",
          "data": {
            "text/plain": [
              "      Unnamed: 0  dados_antropometricos  dados_histopatologicos_mama  \\\n",
              "0              0                   20.0                          3.0   \n",
              "1              1                   25.0                          1.0   \n",
              "2              2                   35.0                          1.0   \n",
              "3              3                   10.0                          1.0   \n",
              "4              4                   19.0                          1.0   \n",
              "...          ...                    ...                          ...   \n",
              "4129        4129                    8.0                          1.0   \n",
              "4130        4130                    6.0                          1.0   \n",
              "4131        4131                    4.0                          1.0   \n",
              "4132        4132                    5.0                          1.0   \n",
              "4133        4133                    2.0                          1.0   \n",
              "\n",
              "      registro_de_tumores  ki67_perc_mean  ki67_perc_last      height  \\\n",
              "0                     3.0            15.0            15.0  152.100000   \n",
              "1                     1.0            -1.0            -1.0  157.909091   \n",
              "2                     1.0            20.0            20.0  155.117647   \n",
              "3                     1.0            -1.0            -1.0  152.000000   \n",
              "4                     1.0            -1.0            -1.0  167.000000   \n",
              "...                   ...             ...             ...         ...   \n",
              "4129                  1.0            30.0            30.0  156.000000   \n",
              "4130                  1.0            15.0            15.0  164.000000   \n",
              "4131                  1.0            -1.0            -1.0  155.000000   \n",
              "4132                  1.0            -1.0            -1.0  174.400000   \n",
              "4133                  1.0            -1.0            -1.0  161.000000   \n",
              "\n",
              "          weight  follow_up_days_recidive  follow_up_days_recidive_mean  \\\n",
              "0      67.335000                   1338.0                        1338.0   \n",
              "1      59.916000                     -1.0                          -1.0   \n",
              "2      63.451471                   2442.0                        2442.0   \n",
              "3      83.110000                     -1.0                          -1.0   \n",
              "4      64.173684                     -1.0                          -1.0   \n",
              "...          ...                      ...                           ...   \n",
              "4129   94.550000                     -1.0                          -1.0   \n",
              "4130   74.275000                     -1.0                          -1.0   \n",
              "4131   60.400000                     -1.0                          -1.0   \n",
              "4132  133.612500                     -1.0                          -1.0   \n",
              "4133   80.350000                     -1.0                          -1.0   \n",
              "\n",
              "      follow_up_days_recidive_std  sister_n   bmi_mean    bmi_std  record_id  \\\n",
              "0                             0.0      -1.0  29.114000   0.435775         54   \n",
              "1                             0.0      -1.0  24.403571   1.296000        302   \n",
              "2                             0.0      -1.0  25.668421   4.313029        710   \n",
              "3                             0.0      -1.0  35.961538   0.525259        752   \n",
              "4                             0.0      -1.0  23.040909   0.518844       1589   \n",
              "...                           ...       ...        ...        ...        ...   \n",
              "4129                          0.0      -1.0  38.825000   0.843039      82057   \n",
              "4130                          0.0      -1.0  27.583333   0.508060      82059   \n",
              "4131                          0.0      -1.0  25.192857   0.240535      82122   \n",
              "4132                          0.0      -1.0  37.900000  15.436598      82205   \n",
              "4133                          0.0      -1.0  31.000000   0.000000      82240   \n",
              "\n",
              "      output_os  \n",
              "0             1  \n",
              "1             1  \n",
              "2             1  \n",
              "3             1  \n",
              "4             1  \n",
              "...         ...  \n",
              "4129          0  \n",
              "4130          0  \n",
              "4131          0  \n",
              "4132          0  \n",
              "4133          0  \n",
              "\n",
              "[4134 rows x 16 columns]"
            ],
            "text/html": [
              "\n",
              "  <div id=\"df-4f57ddda-5ac8-4f32-bfd4-da4c6c66286e\">\n",
              "    <div class=\"colab-df-container\">\n",
              "      <div>\n",
              "<style scoped>\n",
              "    .dataframe tbody tr th:only-of-type {\n",
              "        vertical-align: middle;\n",
              "    }\n",
              "\n",
              "    .dataframe tbody tr th {\n",
              "        vertical-align: top;\n",
              "    }\n",
              "\n",
              "    .dataframe thead th {\n",
              "        text-align: right;\n",
              "    }\n",
              "</style>\n",
              "<table border=\"1\" class=\"dataframe\">\n",
              "  <thead>\n",
              "    <tr style=\"text-align: right;\">\n",
              "      <th></th>\n",
              "      <th>Unnamed: 0</th>\n",
              "      <th>dados_antropometricos</th>\n",
              "      <th>dados_histopatologicos_mama</th>\n",
              "      <th>registro_de_tumores</th>\n",
              "      <th>ki67_perc_mean</th>\n",
              "      <th>ki67_perc_last</th>\n",
              "      <th>height</th>\n",
              "      <th>weight</th>\n",
              "      <th>follow_up_days_recidive</th>\n",
              "      <th>follow_up_days_recidive_mean</th>\n",
              "      <th>follow_up_days_recidive_std</th>\n",
              "      <th>sister_n</th>\n",
              "      <th>bmi_mean</th>\n",
              "      <th>bmi_std</th>\n",
              "      <th>record_id</th>\n",
              "      <th>output_os</th>\n",
              "    </tr>\n",
              "  </thead>\n",
              "  <tbody>\n",
              "    <tr>\n",
              "      <th>0</th>\n",
              "      <td>0</td>\n",
              "      <td>20.0</td>\n",
              "      <td>3.0</td>\n",
              "      <td>3.0</td>\n",
              "      <td>15.0</td>\n",
              "      <td>15.0</td>\n",
              "      <td>152.100000</td>\n",
              "      <td>67.335000</td>\n",
              "      <td>1338.0</td>\n",
              "      <td>1338.0</td>\n",
              "      <td>0.0</td>\n",
              "      <td>-1.0</td>\n",
              "      <td>29.114000</td>\n",
              "      <td>0.435775</td>\n",
              "      <td>54</td>\n",
              "      <td>1</td>\n",
              "    </tr>\n",
              "    <tr>\n",
              "      <th>1</th>\n",
              "      <td>1</td>\n",
              "      <td>25.0</td>\n",
              "      <td>1.0</td>\n",
              "      <td>1.0</td>\n",
              "      <td>-1.0</td>\n",
              "      <td>-1.0</td>\n",
              "      <td>157.909091</td>\n",
              "      <td>59.916000</td>\n",
              "      <td>-1.0</td>\n",
              "      <td>-1.0</td>\n",
              "      <td>0.0</td>\n",
              "      <td>-1.0</td>\n",
              "      <td>24.403571</td>\n",
              "      <td>1.296000</td>\n",
              "      <td>302</td>\n",
              "      <td>1</td>\n",
              "    </tr>\n",
              "    <tr>\n",
              "      <th>2</th>\n",
              "      <td>2</td>\n",
              "      <td>35.0</td>\n",
              "      <td>1.0</td>\n",
              "      <td>1.0</td>\n",
              "      <td>20.0</td>\n",
              "      <td>20.0</td>\n",
              "      <td>155.117647</td>\n",
              "      <td>63.451471</td>\n",
              "      <td>2442.0</td>\n",
              "      <td>2442.0</td>\n",
              "      <td>0.0</td>\n",
              "      <td>-1.0</td>\n",
              "      <td>25.668421</td>\n",
              "      <td>4.313029</td>\n",
              "      <td>710</td>\n",
              "      <td>1</td>\n",
              "    </tr>\n",
              "    <tr>\n",
              "      <th>3</th>\n",
              "      <td>3</td>\n",
              "      <td>10.0</td>\n",
              "      <td>1.0</td>\n",
              "      <td>1.0</td>\n",
              "      <td>-1.0</td>\n",
              "      <td>-1.0</td>\n",
              "      <td>152.000000</td>\n",
              "      <td>83.110000</td>\n",
              "      <td>-1.0</td>\n",
              "      <td>-1.0</td>\n",
              "      <td>0.0</td>\n",
              "      <td>-1.0</td>\n",
              "      <td>35.961538</td>\n",
              "      <td>0.525259</td>\n",
              "      <td>752</td>\n",
              "      <td>1</td>\n",
              "    </tr>\n",
              "    <tr>\n",
              "      <th>4</th>\n",
              "      <td>4</td>\n",
              "      <td>19.0</td>\n",
              "      <td>1.0</td>\n",
              "      <td>1.0</td>\n",
              "      <td>-1.0</td>\n",
              "      <td>-1.0</td>\n",
              "      <td>167.000000</td>\n",
              "      <td>64.173684</td>\n",
              "      <td>-1.0</td>\n",
              "      <td>-1.0</td>\n",
              "      <td>0.0</td>\n",
              "      <td>-1.0</td>\n",
              "      <td>23.040909</td>\n",
              "      <td>0.518844</td>\n",
              "      <td>1589</td>\n",
              "      <td>1</td>\n",
              "    </tr>\n",
              "    <tr>\n",
              "      <th>...</th>\n",
              "      <td>...</td>\n",
              "      <td>...</td>\n",
              "      <td>...</td>\n",
              "      <td>...</td>\n",
              "      <td>...</td>\n",
              "      <td>...</td>\n",
              "      <td>...</td>\n",
              "      <td>...</td>\n",
              "      <td>...</td>\n",
              "      <td>...</td>\n",
              "      <td>...</td>\n",
              "      <td>...</td>\n",
              "      <td>...</td>\n",
              "      <td>...</td>\n",
              "      <td>...</td>\n",
              "      <td>...</td>\n",
              "    </tr>\n",
              "    <tr>\n",
              "      <th>4129</th>\n",
              "      <td>4129</td>\n",
              "      <td>8.0</td>\n",
              "      <td>1.0</td>\n",
              "      <td>1.0</td>\n",
              "      <td>30.0</td>\n",
              "      <td>30.0</td>\n",
              "      <td>156.000000</td>\n",
              "      <td>94.550000</td>\n",
              "      <td>-1.0</td>\n",
              "      <td>-1.0</td>\n",
              "      <td>0.0</td>\n",
              "      <td>-1.0</td>\n",
              "      <td>38.825000</td>\n",
              "      <td>0.843039</td>\n",
              "      <td>82057</td>\n",
              "      <td>0</td>\n",
              "    </tr>\n",
              "    <tr>\n",
              "      <th>4130</th>\n",
              "      <td>4130</td>\n",
              "      <td>6.0</td>\n",
              "      <td>1.0</td>\n",
              "      <td>1.0</td>\n",
              "      <td>15.0</td>\n",
              "      <td>15.0</td>\n",
              "      <td>164.000000</td>\n",
              "      <td>74.275000</td>\n",
              "      <td>-1.0</td>\n",
              "      <td>-1.0</td>\n",
              "      <td>0.0</td>\n",
              "      <td>-1.0</td>\n",
              "      <td>27.583333</td>\n",
              "      <td>0.508060</td>\n",
              "      <td>82059</td>\n",
              "      <td>0</td>\n",
              "    </tr>\n",
              "    <tr>\n",
              "      <th>4131</th>\n",
              "      <td>4131</td>\n",
              "      <td>4.0</td>\n",
              "      <td>1.0</td>\n",
              "      <td>1.0</td>\n",
              "      <td>-1.0</td>\n",
              "      <td>-1.0</td>\n",
              "      <td>155.000000</td>\n",
              "      <td>60.400000</td>\n",
              "      <td>-1.0</td>\n",
              "      <td>-1.0</td>\n",
              "      <td>0.0</td>\n",
              "      <td>-1.0</td>\n",
              "      <td>25.192857</td>\n",
              "      <td>0.240535</td>\n",
              "      <td>82122</td>\n",
              "      <td>0</td>\n",
              "    </tr>\n",
              "    <tr>\n",
              "      <th>4132</th>\n",
              "      <td>4132</td>\n",
              "      <td>5.0</td>\n",
              "      <td>1.0</td>\n",
              "      <td>1.0</td>\n",
              "      <td>-1.0</td>\n",
              "      <td>-1.0</td>\n",
              "      <td>174.400000</td>\n",
              "      <td>133.612500</td>\n",
              "      <td>-1.0</td>\n",
              "      <td>-1.0</td>\n",
              "      <td>0.0</td>\n",
              "      <td>-1.0</td>\n",
              "      <td>37.900000</td>\n",
              "      <td>15.436598</td>\n",
              "      <td>82205</td>\n",
              "      <td>0</td>\n",
              "    </tr>\n",
              "    <tr>\n",
              "      <th>4133</th>\n",
              "      <td>4133</td>\n",
              "      <td>2.0</td>\n",
              "      <td>1.0</td>\n",
              "      <td>1.0</td>\n",
              "      <td>-1.0</td>\n",
              "      <td>-1.0</td>\n",
              "      <td>161.000000</td>\n",
              "      <td>80.350000</td>\n",
              "      <td>-1.0</td>\n",
              "      <td>-1.0</td>\n",
              "      <td>0.0</td>\n",
              "      <td>-1.0</td>\n",
              "      <td>31.000000</td>\n",
              "      <td>0.000000</td>\n",
              "      <td>82240</td>\n",
              "      <td>0</td>\n",
              "    </tr>\n",
              "  </tbody>\n",
              "</table>\n",
              "<p>4134 rows × 16 columns</p>\n",
              "</div>\n",
              "      <button class=\"colab-df-convert\" onclick=\"convertToInteractive('df-4f57ddda-5ac8-4f32-bfd4-da4c6c66286e')\"\n",
              "              title=\"Convert this dataframe to an interactive table.\"\n",
              "              style=\"display:none;\">\n",
              "        \n",
              "  <svg xmlns=\"http://www.w3.org/2000/svg\" height=\"24px\"viewBox=\"0 0 24 24\"\n",
              "       width=\"24px\">\n",
              "    <path d=\"M0 0h24v24H0V0z\" fill=\"none\"/>\n",
              "    <path d=\"M18.56 5.44l.94 2.06.94-2.06 2.06-.94-2.06-.94-.94-2.06-.94 2.06-2.06.94zm-11 1L8.5 8.5l.94-2.06 2.06-.94-2.06-.94L8.5 2.5l-.94 2.06-2.06.94zm10 10l.94 2.06.94-2.06 2.06-.94-2.06-.94-.94-2.06-.94 2.06-2.06.94z\"/><path d=\"M17.41 7.96l-1.37-1.37c-.4-.4-.92-.59-1.43-.59-.52 0-1.04.2-1.43.59L10.3 9.45l-7.72 7.72c-.78.78-.78 2.05 0 2.83L4 21.41c.39.39.9.59 1.41.59.51 0 1.02-.2 1.41-.59l7.78-7.78 2.81-2.81c.8-.78.8-2.07 0-2.86zM5.41 20L4 18.59l7.72-7.72 1.47 1.35L5.41 20z\"/>\n",
              "  </svg>\n",
              "      </button>\n",
              "      \n",
              "  <style>\n",
              "    .colab-df-container {\n",
              "      display:flex;\n",
              "      flex-wrap:wrap;\n",
              "      gap: 12px;\n",
              "    }\n",
              "\n",
              "    .colab-df-convert {\n",
              "      background-color: #E8F0FE;\n",
              "      border: none;\n",
              "      border-radius: 50%;\n",
              "      cursor: pointer;\n",
              "      display: none;\n",
              "      fill: #1967D2;\n",
              "      height: 32px;\n",
              "      padding: 0 0 0 0;\n",
              "      width: 32px;\n",
              "    }\n",
              "\n",
              "    .colab-df-convert:hover {\n",
              "      background-color: #E2EBFA;\n",
              "      box-shadow: 0px 1px 2px rgba(60, 64, 67, 0.3), 0px 1px 3px 1px rgba(60, 64, 67, 0.15);\n",
              "      fill: #174EA6;\n",
              "    }\n",
              "\n",
              "    [theme=dark] .colab-df-convert {\n",
              "      background-color: #3B4455;\n",
              "      fill: #D2E3FC;\n",
              "    }\n",
              "\n",
              "    [theme=dark] .colab-df-convert:hover {\n",
              "      background-color: #434B5C;\n",
              "      box-shadow: 0px 1px 3px 1px rgba(0, 0, 0, 0.15);\n",
              "      filter: drop-shadow(0px 1px 2px rgba(0, 0, 0, 0.3));\n",
              "      fill: #FFFFFF;\n",
              "    }\n",
              "  </style>\n",
              "\n",
              "      <script>\n",
              "        const buttonEl =\n",
              "          document.querySelector('#df-4f57ddda-5ac8-4f32-bfd4-da4c6c66286e button.colab-df-convert');\n",
              "        buttonEl.style.display =\n",
              "          google.colab.kernel.accessAllowed ? 'block' : 'none';\n",
              "\n",
              "        async function convertToInteractive(key) {\n",
              "          const element = document.querySelector('#df-4f57ddda-5ac8-4f32-bfd4-da4c6c66286e');\n",
              "          const dataTable =\n",
              "            await google.colab.kernel.invokeFunction('convertToInteractive',\n",
              "                                                     [key], {});\n",
              "          if (!dataTable) return;\n",
              "\n",
              "          const docLinkHtml = 'Like what you see? Visit the ' +\n",
              "            '<a target=\"_blank\" href=https://colab.research.google.com/notebooks/data_table.ipynb>data table notebook</a>'\n",
              "            + ' to learn more about interactive tables.';\n",
              "          element.innerHTML = '';\n",
              "          dataTable['output_type'] = 'display_data';\n",
              "          await google.colab.output.renderOutput(dataTable, element);\n",
              "          const docLink = document.createElement('div');\n",
              "          docLink.innerHTML = docLinkHtml;\n",
              "          element.appendChild(docLink);\n",
              "        }\n",
              "      </script>\n",
              "    </div>\n",
              "  </div>\n",
              "  "
            ]
          },
          "metadata": {}
        }
      ]
    },
    {
      "cell_type": "code",
      "source": [
        "from google.colab import drive\n",
        "drive.mount('/content/drive')"
      ],
      "metadata": {
        "id": "hscko1QIxUyO",
        "colab": {
          "base_uri": "https://localhost:8080/"
        },
        "outputId": "78aab81b-60a8-4c20-b6a2-5a126a73a972"
      },
      "execution_count": 13,
      "outputs": [
        {
          "output_type": "stream",
          "name": "stdout",
          "text": [
            "Mounted at /content/drive\n"
          ]
        }
      ]
    },
    {
      "cell_type": "markdown",
      "source": [
        "df"
      ],
      "metadata": {
        "id": "EObYmI0L47U7"
      }
    },
    {
      "cell_type": "code",
      "source": [
        "#preenchimento dos nulo com um número para treino do modelo\n",
        "df = df.fillna(-1)"
      ],
      "metadata": {
        "id": "z4Domrkw5LbS"
      },
      "execution_count": 14,
      "outputs": []
    },
    {
      "cell_type": "markdown",
      "source": [
        "##Separando os dados"
      ],
      "metadata": {
        "id": "OPypRLvsLB9b"
      }
    },
    {
      "cell_type": "code",
      "source": [
        "#variáveis independentes\n",
        "x = df.drop(['output_os', 'record_id'], axis=1)\n",
        "\n",
        "#variável dependente (target)\n",
        "y = df.output_os"
      ],
      "metadata": {
        "id": "MwLD7lmGLE_2"
      },
      "execution_count": 15,
      "outputs": []
    },
    {
      "cell_type": "code",
      "source": [
        "#divisão dos dados entre treino e teste\n",
        "x_train, x_test, y_train, y_test = train_test_split(x, y, test_size=0.3, random_state=3)"
      ],
      "metadata": {
        "id": "wV-bh3e2Lg5d"
      },
      "execution_count": 16,
      "outputs": []
    },
    {
      "cell_type": "code",
      "source": [
        "#verificando se a divisão foi feita corretamente\n",
        "x_test.shape, y_test.shape"
      ],
      "metadata": {
        "id": "rl2JjlRQL1oG",
        "colab": {
          "base_uri": "https://localhost:8080/"
        },
        "outputId": "5d0409cd-668f-4194-bc72-976059e05234"
      },
      "execution_count": 17,
      "outputs": [
        {
          "output_type": "execute_result",
          "data": {
            "text/plain": [
              "((1241, 14), (1241,))"
            ]
          },
          "metadata": {},
          "execution_count": 17
        }
      ]
    },
    {
      "cell_type": "markdown",
      "source": [
        "##Modelos"
      ],
      "metadata": {
        "id": "ivHSmL-zMGhm"
      }
    },
    {
      "cell_type": "code",
      "source": [
        "#dicionário em que os modelos treinados serão armazenados\n",
        "models = {}\n",
        "\n",
        "#dicionário em que as métricas de cada modelo serão armazenadas\n",
        "metrics = {}\n",
        "\n",
        "#instanciando os modelos que serão utilizados para treino\n",
        "training = {'Decision Tree': DecisionTreeClassifier(random_state=3), 'KNN': KNeighborsClassifier(), 'Random Forest': RandomForestClassifier(random_state=3), 'SVM': SVC(random_state=3)}\n",
        "\n",
        "#laço que itera sobre cada modelo do dicionário acima\n",
        "for name, modelo in training.items():\n",
        "  #treinando o modelo\n",
        "  modelo.fit(x_train, y_train)\n",
        "\n",
        "  #fazendo predições com o modelo treinado\n",
        "  y_pred = modelo.predict(x_test)\n",
        "\n",
        "  #armazenando nos dicionários os modelos e as métricas\n",
        "  models[name] = modelo\n",
        "  metrics[name] = {'accuracy':accuracy_score(y_test, y_pred), 'precision':precision_score(y_test, y_pred), 'recall':recall_score(y_test, y_pred), 'f1-score': f1_score(y_test, y_pred),'auc':roc_auc_score(y_test, y_pred)}\n",
        "  \n",
        "  #exibindo a matriz de confusão de cada modelo\n",
        "  print(name)\n",
        "  plot_confusion_matrix(modelo, x_test, y_test)  \n",
        "  plt.show()"
      ],
      "metadata": {
        "id": "UjJyqP9NVJmm",
        "colab": {
          "base_uri": "https://localhost:8080/",
          "height": 1000
        },
        "outputId": "f05b0e01-f5a5-4a3a-a212-645a10af07ee"
      },
      "execution_count": 18,
      "outputs": [
        {
          "output_type": "stream",
          "name": "stdout",
          "text": [
            "Decision Tree\n"
          ]
        },
        {
          "output_type": "stream",
          "name": "stderr",
          "text": [
            "/usr/local/lib/python3.7/dist-packages/sklearn/utils/deprecation.py:87: FutureWarning: Function plot_confusion_matrix is deprecated; Function `plot_confusion_matrix` is deprecated in 1.0 and will be removed in 1.2. Use one of the class methods: ConfusionMatrixDisplay.from_predictions or ConfusionMatrixDisplay.from_estimator.\n",
            "  warnings.warn(msg, category=FutureWarning)\n"
          ]
        },
        {
          "output_type": "display_data",
          "data": {
            "text/plain": [
              "<Figure size 432x288 with 2 Axes>"
            ],
            "image/png": "[encoded data removed]"
          },
          "metadata": {
            "needs_background": "light"
          }
        },
        {
          "output_type": "stream",
          "name": "stdout",
          "text": [
            "KNN\n"
          ]
        },
        {
          "output_type": "stream",
          "name": "stderr",
          "text": [
            "/usr/local/lib/python3.7/dist-packages/sklearn/utils/deprecation.py:87: FutureWarning: Function plot_confusion_matrix is deprecated; Function `plot_confusion_matrix` is deprecated in 1.0 and will be removed in 1.2. Use one of the class methods: ConfusionMatrixDisplay.from_predictions or ConfusionMatrixDisplay.from_estimator.\n",
            "  warnings.warn(msg, category=FutureWarning)\n"
          ]
        },
        {
          "output_type": "display_data",
          "data": {
            "text/plain": [
              "<Figure size 432x288 with 2 Axes>"
            ],
            "image/png": "[encoded data removed]"
          },
          "metadata": {
            "needs_background": "light"
          }
        },
        {
          "output_type": "stream",
          "name": "stdout",
          "text": [
            "Random Forest\n"
          ]
        },
        {
          "output_type": "stream",
          "name": "stderr",
          "text": [
            "/usr/local/lib/python3.7/dist-packages/sklearn/utils/deprecation.py:87: FutureWarning: Function plot_confusion_matrix is deprecated; Function `plot_confusion_matrix` is deprecated in 1.0 and will be removed in 1.2. Use one of the class methods: ConfusionMatrixDisplay.from_predictions or ConfusionMatrixDisplay.from_estimator.\n",
            "  warnings.warn(msg, category=FutureWarning)\n"
          ]
        },
        {
          "output_type": "display_data",
          "data": {
            "text/plain": [
              "<Figure size 432x288 with 2 Axes>"
            ],
            "image/png": "[encoded data removed]"
          },
          "metadata": {
            "needs_background": "light"
          }
        },
        {
          "output_type": "stream",
          "name": "stdout",
          "text": [
            "SVM\n"
          ]
        },
        {
          "output_type": "stream",
          "name": "stderr",
          "text": [
            "/usr/local/lib/python3.7/dist-packages/sklearn/utils/deprecation.py:87: FutureWarning: Function plot_confusion_matrix is deprecated; Function `plot_confusion_matrix` is deprecated in 1.0 and will be removed in 1.2. Use one of the class methods: ConfusionMatrixDisplay.from_predictions or ConfusionMatrixDisplay.from_estimator.\n",
            "  warnings.warn(msg, category=FutureWarning)\n"
          ]
        },
        {
          "output_type": "display_data",
          "data": {
            "text/plain": [
              "<Figure size 432x288 with 2 Axes>"
            ],
            "image/png": "[encoded data removed]"
          },
          "metadata": {
            "needs_background": "light"
          }
        }
      ]
    },
    {
      "cell_type": "code",
      "source": [
        "#criando um dataframe a partir do dicionários das métricas\n",
        "metrics_df = pd.DataFrame(metrics)\n",
        "metrics_df"
      ],
      "metadata": {
        "id": "zcPmyiowW3FA",
        "colab": {
          "base_uri": "https://localhost:8080/",
          "height": 206
        },
        "outputId": "4aac96e0-2be3-4b52-84ee-e8cf0d39328a"
      },
      "execution_count": 19,
      "outputs": [
        {
          "output_type": "execute_result",
          "data": {
            "text/plain": [
              "           Decision Tree       KNN  Random Forest       SVM\n",
              "accuracy        0.719581  0.763900       0.774376  0.761483\n",
              "precision       0.724473  0.755385       0.764977  0.727524\n",
              "recall          0.715200  0.785600       0.796800  0.841600\n",
              "f1-score        0.719807  0.770196       0.780564  0.780415\n",
              "auc             0.719613  0.763742       0.774212  0.760897"
            ],
            "text/html": [
              "\n",
              "  <div id=\"df-062b0819-2959-4ca5-b6eb-edfc37510037\">\n",
              "    <div class=\"colab-df-container\">\n",
              "      <div>\n",
              "<style scoped>\n",
              "    .dataframe tbody tr th:only-of-type {\n",
              "        vertical-align: middle;\n",
              "    }\n",
              "\n",
              "    .dataframe tbody tr th {\n",
              "        vertical-align: top;\n",
              "    }\n",
              "\n",
              "    .dataframe thead th {\n",
              "        text-align: right;\n",
              "    }\n",
              "</style>\n",
              "<table border=\"1\" class=\"dataframe\">\n",
              "  <thead>\n",
              "    <tr style=\"text-align: right;\">\n",
              "      <th></th>\n",
              "      <th>Decision Tree</th>\n",
              "      <th>KNN</th>\n",
              "      <th>Random Forest</th>\n",
              "      <th>SVM</th>\n",
              "    </tr>\n",
              "  </thead>\n",
              "  <tbody>\n",
              "    <tr>\n",
              "      <th>accuracy</th>\n",
              "      <td>0.719581</td>\n",
              "      <td>0.763900</td>\n",
              "      <td>0.774376</td>\n",
              "      <td>0.761483</td>\n",
              "    </tr>\n",
              "    <tr>\n",
              "      <th>precision</th>\n",
              "      <td>0.724473</td>\n",
              "      <td>0.755385</td>\n",
              "      <td>0.764977</td>\n",
              "      <td>0.727524</td>\n",
              "    </tr>\n",
              "    <tr>\n",
              "      <th>recall</th>\n",
              "      <td>0.715200</td>\n",
              "      <td>0.785600</td>\n",
              "      <td>0.796800</td>\n",
              "      <td>0.841600</td>\n",
              "    </tr>\n",
              "    <tr>\n",
              "      <th>f1-score</th>\n",
              "      <td>0.719807</td>\n",
              "      <td>0.770196</td>\n",
              "      <td>0.780564</td>\n",
              "      <td>0.780415</td>\n",
              "    </tr>\n",
              "    <tr>\n",
              "      <th>auc</th>\n",
              "      <td>0.719613</td>\n",
              "      <td>0.763742</td>\n",
              "      <td>0.774212</td>\n",
              "      <td>0.760897</td>\n",
              "    </tr>\n",
              "  </tbody>\n",
              "</table>\n",
              "</div>\n",
              "      <button class=\"colab-df-convert\" onclick=\"convertToInteractive('df-062b0819-2959-4ca5-b6eb-edfc37510037')\"\n",
              "              title=\"Convert this dataframe to an interactive table.\"\n",
              "              style=\"display:none;\">\n",
              "        \n",
              "  <svg xmlns=\"http://www.w3.org/2000/svg\" height=\"24px\"viewBox=\"0 0 24 24\"\n",
              "       width=\"24px\">\n",
              "    <path d=\"M0 0h24v24H0V0z\" fill=\"none\"/>\n",
              "    <path d=\"M18.56 5.44l.94 2.06.94-2.06 2.06-.94-2.06-.94-.94-2.06-.94 2.06-2.06.94zm-11 1L8.5 8.5l.94-2.06 2.06-.94-2.06-.94L8.5 2.5l-.94 2.06-2.06.94zm10 10l.94 2.06.94-2.06 2.06-.94-2.06-.94-.94-2.06-.94 2.06-2.06.94z\"/><path d=\"M17.41 7.96l-1.37-1.37c-.4-.4-.92-.59-1.43-.59-.52 0-1.04.2-1.43.59L10.3 9.45l-7.72 7.72c-.78.78-.78 2.05 0 2.83L4 21.41c.39.39.9.59 1.41.59.51 0 1.02-.2 1.41-.59l7.78-7.78 2.81-2.81c.8-.78.8-2.07 0-2.86zM5.41 20L4 18.59l7.72-7.72 1.47 1.35L5.41 20z\"/>\n",
              "  </svg>\n",
              "      </button>\n",
              "      \n",
              "  <style>\n",
              "    .colab-df-container {\n",
              "      display:flex;\n",
              "      flex-wrap:wrap;\n",
              "      gap: 12px;\n",
              "    }\n",
              "\n",
              "    .colab-df-convert {\n",
              "      background-color: #E8F0FE;\n",
              "      border: none;\n",
              "      border-radius: 50%;\n",
              "      cursor: pointer;\n",
              "      display: none;\n",
              "      fill: #1967D2;\n",
              "      height: 32px;\n",
              "      padding: 0 0 0 0;\n",
              "      width: 32px;\n",
              "    }\n",
              "\n",
              "    .colab-df-convert:hover {\n",
              "      background-color: #E2EBFA;\n",
              "      box-shadow: 0px 1px 2px rgba(60, 64, 67, 0.3), 0px 1px 3px 1px rgba(60, 64, 67, 0.15);\n",
              "      fill: #174EA6;\n",
              "    }\n",
              "\n",
              "    [theme=dark] .colab-df-convert {\n",
              "      background-color: #3B4455;\n",
              "      fill: #D2E3FC;\n",
              "    }\n",
              "\n",
              "    [theme=dark] .colab-df-convert:hover {\n",
              "      background-color: #434B5C;\n",
              "      box-shadow: 0px 1px 3px 1px rgba(0, 0, 0, 0.15);\n",
              "      filter: drop-shadow(0px 1px 2px rgba(0, 0, 0, 0.3));\n",
              "      fill: #FFFFFF;\n",
              "    }\n",
              "  </style>\n",
              "\n",
              "      <script>\n",
              "        const buttonEl =\n",
              "          document.querySelector('#df-062b0819-2959-4ca5-b6eb-edfc37510037 button.colab-df-convert');\n",
              "        buttonEl.style.display =\n",
              "          google.colab.kernel.accessAllowed ? 'block' : 'none';\n",
              "\n",
              "        async function convertToInteractive(key) {\n",
              "          const element = document.querySelector('#df-062b0819-2959-4ca5-b6eb-edfc37510037');\n",
              "          const dataTable =\n",
              "            await google.colab.kernel.invokeFunction('convertToInteractive',\n",
              "                                                     [key], {});\n",
              "          if (!dataTable) return;\n",
              "\n",
              "          const docLinkHtml = 'Like what you see? Visit the ' +\n",
              "            '<a target=\"_blank\" href=https://colab.research.google.com/notebooks/data_table.ipynb>data table notebook</a>'\n",
              "            + ' to learn more about interactive tables.';\n",
              "          element.innerHTML = '';\n",
              "          dataTable['output_type'] = 'display_data';\n",
              "          await google.colab.output.renderOutput(dataTable, element);\n",
              "          const docLink = document.createElement('div');\n",
              "          docLink.innerHTML = docLinkHtml;\n",
              "          element.appendChild(docLink);\n",
              "        }\n",
              "      </script>\n",
              "    </div>\n",
              "  </div>\n",
              "  "
            ]
          },
          "metadata": {},
          "execution_count": 19
        }
      ]
    },
    {
      "cell_type": "markdown",
      "source": [
        "# Documentação"
      ],
      "metadata": {
        "id": "cBKWKZjPsZcK"
      }
    },
    {
      "cell_type": "markdown",
      "source": [
        "# Procedimento\n",
        "\n",
        "Os modelos utilizados para treino durante esses experimentos iniciais foram:\n",
        "* Decision Tree\n",
        "* Random Forest\n",
        "* K Nearest Neighbors\n",
        "* SVM (Support Vector Machines)\n",
        "\n",
        "O procedimento para treino dos modelos é o seguinte:\n",
        "1. Importação das bibliotecas utilizadas:\n",
        "  * Pandas (manipulação dos dados)\n",
        "  * Matplotlib (visualização dos resultados)\n",
        "  * Numpy\n",
        "  * Scikit Learn (treino dos modelos e avaliação)\n",
        "\n",
        "2. Importação dos dados:\n",
        "  * Foi utilizada a base de dados 'DataSet3', que deriva da tabela principal manipulada durante a última sprint.\n",
        "\n",
        "3. Divisão dos dados em treino e teste:\n",
        "  * Inicialmente, separamos a coluna da variável target (output_os) e, após isso, dividimos os dados em treino e teste utilizando a função train_test_split da biblioteca model_selection do sklearn. A divisão foi feita com base na proporção 80/20, ou seja, 80% dos dados foram utilizados para treino e 20% para teste.\n",
        "\n",
        "4. Treino:\n",
        "  * Após a separação dos dados, importamos e instanciamos os modelos e, por fim, os treinamos, utilizando a função .fit() do sklearn.\n",
        "\n",
        "5. Predições:\n",
        "  * Com os modelos treinados, utilizamos a função .predict() para realizar previsões em cima dos dados de teste.\n",
        "\n",
        "6. Avaliação dos modelos:\n",
        "  * Por fim, comparamos as predições com os dados de teste da variável target, para conseguirmos avaliar o quão bem os modelos se saíram. \n",
        "  \n",
        "# Métricas de avaliação\n",
        "\n",
        "* A partir dessa comparação, temos os falsos negativos, falsos positivos, verdadeiros positivos e verdadeiros negativos, e a partir disso conseguimos calcular as seguintes métricas:\n",
        "    1. Precision (Precisão): dentre todas as classificações de classe Positivo que o modelo fez, quantas estão corretas. \n",
        "    2. Recall (Revocação): dentre todas as situações de classe Positivo como valor esperado, quantas estão corretas.\n",
        "    3. F1-Score: média harmônica entre precision e recall.\n",
        "    4. Acurácia: dentre todas as classificações que o modelo fez, independentemente de classe, quantas estão corretas.\n",
        "    5. AUC: área de baixo da curva ROC (Receiver operating characteristic):\n",
        "\n",
        "As fórmulas para essas métricas são:\n",
        "  <img src=\"https://miro.medium.com/max/1400/1*t1vf-ofJrJqtmam0KSn3EQ.png\">\n",
        "\n",
        "# Modelos \n",
        "\n",
        "Neste primeiro momento, escolhemos os modelos Árvore de Decisão, Random Forest, KNN e SVM para uma primeira análise. Essa escolha se deve, principalmente, ao fato de todos consistirem em algoritmos de classificação de fácil entendimento e interpretação.\n",
        "\n",
        "## Árvore de decisão\n",
        "\n",
        "Uma árvore de decisão é uma ferramenta de suporte à tomada de decisão, usando um gráfico no formato de árvore e demonstrando visualmente as condições e as probabilidades para se chegar aos resultados. O algoritmo utilizado para chegar na representação visual da árvore pertence ao grupo de aprendizado de máquina supervisionado, funcionando tanto para regressão quanto para classificação. Elas são tão utilizadas porque fornecem ao usuário final uma fácil interpretação e desenham uma espécie de caminho a ser percorrido para alcançar um determinado objetivo.\n",
        "\n",
        "## Random Forest\n",
        "\n",
        "Random Forest consiste em um modelo construído para realizar classificações e regressões a partir de um conjunto de Árvores de Decisão. Nesse caso, a saída é a classe selecionada pelo maior número de árvores de decisão (Classificação). Para modelos de regressão, a sáida é a média das predições de cada árvore. No entanto, as características dos dados utilizados podem afetar, negativamente, os resultados obtidos.\n",
        "\n",
        "## KNN\n",
        "\n",
        "KNN é um algoritmo de classificação e regressão que consiste, basicamente, na análise dos pontos mais próximos ao ponto predito. No caso da classificação, o algoritmo analisará a classe dos N pontos mais próximos e classificará o novo ponto com base na classe que mais aparece entre os pontos mais próximos. A regressão, por sua vez, realiza o mesmo procedimento, porém com valores numéricos, ou seja, com base na média dos valores mais próximos. Nesse contexto, o número de \"vizinhos\" levados em consideração é uma variável e pode ser definido pelo programador.\n",
        "\n",
        "## SVM\n",
        "\n",
        "O SVM é um algoritmo que busca uma linha de separação entre duas classes distintas analisando os dois pontos, um de cada grupo, mais próximos da outra classe. Isto é, o SVM escolhe, entre os dois grupos, o hiperplano que se distancia mais de cada um.\n",
        "Existem grupos que não podem ser separados somente por hiperplanos. Nesses casos, utilizamos o SVM não linear para delimitar as duas classes, que traçará uma ou mais linhas retas ou curvas para separar as classes da melhor forma possível.\n",
        "\n",
        "#Comparação dos Modelos\n",
        "![image.png](data:image/png;base64,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)\n",
        "\n",
        "  Com base nas métricas de avaliação, entende-se que os resultados preliminares foram satisfatórios e atingiram uma porcentagem de acertos maior que a esperada para uma primeira análise. Nesse contexto, o modelo Random Forest se sobressaiu em relação aos demais, visto que obteve as maiores métricas, com excessão do Recall. Isso se deve ao fato do Random Forest ser um modelo extremamente robusto e se sair bem em grande parte dos casos, uma vez que é do tipo ensemble e combina várias árvores de decisão para obter um resultado mais preciso.\n",
        "\n",
        "  Nesse primeiro momento, por ainda não se ter certeza sobre a métrica que mais deve ser valorizada na análise comparativa, adotamos a estratégia de escolher o modelo que se saiu melhor na maioria das métricas utilizadas. Desta forma, por ter obtido o melhor resultado em 4 das 5 métricas, optamos pelo modelo que utiliza o Random Forest.\n"
      ],
      "metadata": {
        "id": "D-T2v6Y2Z4Ws"
      }
    },
    {
      "cell_type": "code",
      "source": [],
      "metadata": {
        "id": "Dmktnb2ng8lI"
      },
      "execution_count": 19,
      "outputs": []
    }
  ]
}
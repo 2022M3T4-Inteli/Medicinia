{
  "nbformat": 4,
  "nbformat_minor": 0,
  "metadata": {
    "colab": {
      "name": "Movimentação dos Dados",
      "provenance": [],
      "collapsed_sections": []
    },
    "kernelspec": {
      "name": "python3",
      "display_name": "Python 3"
    },
    "language_info": {
      "name": "python"
    }
  },
  "cells": [
    {
      "cell_type": "markdown",
      "source": [
        "#Esse é o primeiro notebook nele fazemos a movimentação dos dados para um drive privado e criamos nossa variável alvo (target)"
      ],
      "metadata": {
        "id": "SFaZ-QBo0Beu"
      }
    },
    {
      "cell_type": "code",
      "execution_count": null,
      "metadata": {
        "id": "VNgcG0oUNch3",
        "colab": {
          "base_uri": "https://localhost:8080/"
        },
        "outputId": "b5263c4e-581b-4aca-b28e-daad07ed6221"
      },
      "outputs": [
        {
          "output_type": "stream",
          "name": "stdout",
          "text": [
            "Mounted at /content/drive\n"
          ]
        }
      ],
      "source": [
        "from google.colab import drive\n",
        "drive.mount('/content/drive')"
      ]
    },
    {
      "cell_type": "markdown",
      "source": [
        "**Na celula abaixo nos importamos as bibliotecas pandas e numpy**\n"
      ],
      "metadata": {
        "id": "Z9bsoLWvyIIt"
      }
    },
    {
      "cell_type": "code",
      "execution_count": null,
      "metadata": {
        "id": "kUAtA6yhJGif"
      },
      "outputs": [],
      "source": [
        "import pandas as pd\n",
        "import numpy as np"
      ]
    },
    {
      "cell_type": "markdown",
      "source": [
        "**Copiamos a base de dados que se encontra no drive da turma**"
      ],
      "metadata": {
        "id": "0neb5LDDyUv2"
      }
    },
    {
      "cell_type": "code",
      "source": [
        "data = pd.read_csv('/content/drive/MyDrive/Turma 2022.1 - Preditivo - USP/Base/NEW-BDIPMamaV11-INTELI.csv')"
      ],
      "metadata": {
        "id": "zTrYxJpTJZKg"
      },
      "execution_count": null,
      "outputs": []
    },
    {
      "cell_type": "markdown",
      "source": [
        "**Agora copiamos a base para um drive privado onde só o grupo tem acesso**"
      ],
      "metadata": {
        "id": "UkKw7u5Ly0WN"
      }
    },
    {
      "cell_type": "code",
      "source": [
        "data.to_csv('/content/drive/MyDrive/MedicinIA/Sample_Data/Raw/DataSet0.csv',\n",
        "            index=False)"
      ],
      "metadata": {
        "id": "M-n_GkocJ5GR"
      },
      "execution_count": null,
      "outputs": []
    },
    {
      "cell_type": "markdown",
      "source": [
        "**Por último, nesse mesmo notebook criamos a variável target (output_os) e por fim, geramos um novo csv, mas desta vez com a variável target.**"
      ],
      "metadata": {
        "id": "AKQBGOE8zaSQ"
      }
    },
    {
      "cell_type": "code",
      "source": [
        "follow_up_days = data.groupby('record_id').follow_up_days.mean().to_frame()\n",
        "follow_up_days['output_os'] = follow_up_days.follow_up_days.apply(\n",
        "    lambda x: 1 if x > follow_up_days.follow_up_days.median() else 0 \n",
        ")"
      ],
      "metadata": {
        "id": "guA-PqVmtkgj"
      },
      "execution_count": null,
      "outputs": []
    },
    {
      "cell_type": "code",
      "source": [
        "data = pd.merge(data, follow_up_days['output_os'],right_index=True,left_on='record_id')"
      ],
      "metadata": {
        "id": "MzOlIPaxft9U"
      },
      "execution_count": null,
      "outputs": []
    },
    {
      "cell_type": "code",
      "source": [
        "data.to_csv('/content/drive/MyDrive/MedicinIA/Sample_Data/Raw/DataSet1.csv',\n",
        "            index=False)"
      ],
      "metadata": {
        "id": "kwmvKmftUGrt"
      },
      "execution_count": null,
      "outputs": []
    }
  ]
}
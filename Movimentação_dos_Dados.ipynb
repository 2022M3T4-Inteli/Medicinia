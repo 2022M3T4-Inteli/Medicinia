{
  "nbformat": 4,
  "nbformat_minor": 0,
  "metadata": {
    "colab": {
      "name": "Movimentação dos Dados",
      "provenance": [],
      "collapsed_sections": []
    },
    "kernelspec": {
      "name": "python3",
      "display_name": "Python 3"
    },
    "language_info": {
      "name": "python"
    }
  },
  "cells": [
    {
      "cell_type": "code",
      "execution_count": null,
      "metadata": {
        "id": "VNgcG0oUNch3",
        "colab": {
          "base_uri": "https://localhost:8080/"
        },
        "outputId": "b5263c4e-581b-4aca-b28e-daad07ed6221"
      },
      "outputs": [
        {
          "output_type": "stream",
          "name": "stdout",
          "text": [
            "Mounted at /content/drive\n"
          ]
        }
      ],
      "source": [
        "from google.colab import drive\n",
        "drive.mount('/content/drive')"
      ]
    },
    {
      "cell_type": "code",
      "execution_count": null,
      "metadata": {
        "id": "kUAtA6yhJGif"
      },
      "outputs": [],
      "source": [
        "import pandas as pd\n",
        "import numpy as np"
      ]
    },
    {
      "cell_type": "code",
      "source": [
        "data = pd.read_csv('/content/drive/MyDrive/Turma 2022.1 - Preditivo - USP/Base/NEW-BDIPMamaV11-INTELI.csv')"
      ],
      "metadata": {
        "id": "zTrYxJpTJZKg",
        "colab": {
          "base_uri": "https://localhost:8080/"
        },
        "outputId": "29b15722-cc1b-474d-ef77-b08254ca1d7f"
      },
      "execution_count": null,
      "outputs": [
        {
          "output_type": "stream",
          "name": "stderr",
          "text": [
            "/usr/local/lib/python3.7/dist-packages/IPython/core/interactiveshell.py:3326: DtypeWarning: Columns (22,24,25,75,76,77,78,89,90,91,92) have mixed types.Specify dtype option on import or set low_memory=False.\n",
            "  exec(code_obj, self.user_global_ns, self.user_ns)\n"
          ]
        }
      ]
    },
    {
      "cell_type": "code",
      "source": [
        "data.to_csv('/content/drive/MyDrive/MedicinIA/Sample_Data/Raw/DataSet0.csv',\n",
        "            index=False)"
      ],
      "metadata": {
        "id": "M-n_GkocJ5GR"
      },
      "execution_count": null,
      "outputs": []
    },
    {
      "cell_type": "code",
      "source": [
        "follow_up_days = data.groupby('record_id').follow_up_days.mean().to_frame()\n",
        "follow_up_days['output_os'] = follow_up_days.follow_up_days.apply(\n",
        "    lambda x: 1 if x > follow_up_days.follow_up_days.median() else 0 \n",
        ")"
      ],
      "metadata": {
        "id": "guA-PqVmtkgj"
      },
      "execution_count": null,
      "outputs": []
    },
    {
      "cell_type": "code",
      "source": [
        "data = pd.merge(data, follow_up_days['output_os'],right_index=True,left_on='record_id')"
      ],
      "metadata": {
        "id": "MzOlIPaxft9U"
      },
      "execution_count": null,
      "outputs": []
    },
    {
      "cell_type": "code",
      "source": [
        "data.to_csv('/content/drive/MyDrive/MedicinIA/Sample_Data/Raw/DataSet1.csv',\n",
        "            index=False)"
      ],
      "metadata": {
        "id": "kwmvKmftUGrt"
      },
      "execution_count": null,
      "outputs": []
    }
  ]
}